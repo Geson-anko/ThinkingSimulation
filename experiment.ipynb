{
 "cells": [
  {
   "cell_type": "markdown",
   "metadata": {},
   "source": [
    "## Experiment1\n",
    "4個の記憶を順番に入れ続け、次の３つの変化を記録する。  \n",
    "    ・記憶ベクトルの分布  \n",
    "    ・記憶辞書のマッピング結果  \n",
    "    ・一時記憶の変化  "
   ]
  },
  {
   "cell_type": "markdown",
   "metadata": {},
   "source": [
    "### Module definition and importing."
   ]
  },
  {
   "cell_type": "code",
   "execution_count": 1,
   "metadata": {},
   "outputs": [],
   "source": [
    "# import modules\n",
    "import torch\n",
    "import numpy as np\n",
    "from logger import *\n",
    "from MemoryDictionary import MemoryDictionary\n",
    "from WorkingMemory import WorkingMemory\n",
    "from torch.utils.tensorboard import SummaryWriter\n",
    "from log_tool import log_mem_dict"
   ]
  },
  {
   "cell_type": "code",
   "execution_count": 2,
   "metadata": {},
   "outputs": [],
   "source": [
    "# Memory Generator\n",
    "class MemGenerator:\n",
    "    \"\"\"\n",
    "    0 -> 1 -> ... -> max_id - 1-> 0 -> ...\n",
    "    上のように、順番に記憶IDを出力します\n",
    "    \"\"\"\n",
    "\n",
    "    def __init__(self, max_id:int) -> None:\n",
    "        assert max_id > 0\n",
    "        self.max_id = max_id\n",
    "        self.current_id = 0\n",
    "\n",
    "    def get_mem(self) -> int:\n",
    "        out = self.current_id\n",
    "        self.current_id = (self.current_id + 1) % self.max_id\n",
    "        return out\n",
    "mem_g = MemGenerator(4)"
   ]
  },
  {
   "cell_type": "markdown",
   "metadata": {},
   "source": [
    "### settings"
   ]
  },
  {
   "cell_type": "code",
   "execution_count": 3,
   "metadata": {},
   "outputs": [],
   "source": [
    "MAX_ID = 4\n",
    "ALPHA = 2\n",
    "NUM_DIM = 6\n",
    "NUM_STEPS = 32\n",
    "LOG_INTERVAL = 1\n",
    "DEVICE = torch.device(\"cuda\")\n",
    "DTYPE = torch.float\n",
    "CONNECTION_MARGIN = 0.1\n",
    "MAX_LR = 10.0\n",
    "NUM_SEARCH = 10"
   ]
  },
  {
   "cell_type": "markdown",
   "metadata": {},
   "source": [
    "### Prepair"
   ]
  },
  {
   "cell_type": "code",
   "execution_count": 7,
   "metadata": {},
   "outputs": [],
   "source": [
    "setLogger(__name__,INFO)\n",
    "mem_dict= MemoryDictionary(MAX_ID,NUM_DIM,DEVICE,DTYPE,CONNECTION_MARGIN,MAX_LR,NUM_SEARCH)\n",
    "work_mem = WorkingMemory(ALPHA)\n",
    "mem_gentor = MemGenerator(MAX_ID)\n",
    "writer = SummaryWriter(log_dir=\"runs/experiment1\")"
   ]
  },
  {
   "cell_type": "markdown",
   "metadata": {},
   "source": [
    "### Run"
   ]
  },
  {
   "cell_type": "code",
   "execution_count": 8,
   "metadata": {},
   "outputs": [
    {
     "name": "stdout",
     "output_type": "stream",
     "text": [
      "[2022-01-21 17:16:23,830][INFO][__main__] | Start simulation!\n",
      "[2022-01-21 17:16:23,830][INFO][__main__] | Start simulation!\n",
      "[2022-01-21 17:16:23,839][INFO][__main__] | Current working memories are [0]\n",
      "[2022-01-21 17:16:23,839][INFO][__main__] | Current working memories are [0]\n",
      "[2022-01-21 17:16:23,862][INFO][__main__] | Current working memories are [0 1]\n",
      "[2022-01-21 17:16:23,862][INFO][__main__] | Current working memories are [0 1]\n",
      "[2022-01-21 17:16:23,878][INFO][__main__] | Current working memories are [0 2]\n",
      "[2022-01-21 17:16:23,878][INFO][__main__] | Current working memories are [0 2]\n",
      "[2022-01-21 17:16:23,893][INFO][__main__] | Current working memories are [0 3]\n",
      "[2022-01-21 17:16:23,893][INFO][__main__] | Current working memories are [0 3]\n",
      "[2022-01-21 17:16:23,915][INFO][__main__] | Current working memories are [0 3]\n",
      "[2022-01-21 17:16:23,915][INFO][__main__] | Current working memories are [0 3]\n",
      "[2022-01-21 17:16:23,927][INFO][__main__] | Current working memories are [0 3]\n",
      "[2022-01-21 17:16:23,927][INFO][__main__] | Current working memories are [0 3]\n",
      "[2022-01-21 17:16:23,947][INFO][__main__] | Current working memories are [0 2]\n",
      "[2022-01-21 17:16:23,947][INFO][__main__] | Current working memories are [0 2]\n",
      "[2022-01-21 17:16:23,960][INFO][__main__] | Current working memories are [0 2]\n",
      "[2022-01-21 17:16:23,960][INFO][__main__] | Current working memories are [0 2]\n",
      "[2022-01-21 17:16:23,975][INFO][__main__] | Current working memories are [2 0]\n",
      "[2022-01-21 17:16:23,975][INFO][__main__] | Current working memories are [2 0]\n",
      "[2022-01-21 17:16:23,997][INFO][__main__] | Current working memories are [0 2]\n",
      "[2022-01-21 17:16:23,997][INFO][__main__] | Current working memories are [0 2]\n",
      "[2022-01-21 17:16:24,010][INFO][__main__] | Current working memories are [0 2]\n",
      "[2022-01-21 17:16:24,010][INFO][__main__] | Current working memories are [0 2]\n",
      "[2022-01-21 17:16:24,023][INFO][__main__] | Current working memories are [1 3]\n",
      "[2022-01-21 17:16:24,023][INFO][__main__] | Current working memories are [1 3]\n",
      "[2022-01-21 17:16:24,033][INFO][__main__] | Current working memories are [0 1]\n",
      "[2022-01-21 17:16:24,033][INFO][__main__] | Current working memories are [0 1]\n",
      "[2022-01-21 17:16:24,044][INFO][__main__] | Current working memories are [0 2]\n",
      "[2022-01-21 17:16:24,044][INFO][__main__] | Current working memories are [0 2]\n",
      "[2022-01-21 17:16:24,054][INFO][__main__] | Current working memories are [0 3]\n",
      "[2022-01-21 17:16:24,054][INFO][__main__] | Current working memories are [0 3]\n",
      "[2022-01-21 17:16:24,066][INFO][__main__] | Current working memories are [0 2]\n",
      "[2022-01-21 17:16:24,066][INFO][__main__] | Current working memories are [0 2]\n",
      "[2022-01-21 17:16:24,074][INFO][__main__] | Current working memories are [0 2]\n",
      "[2022-01-21 17:16:24,074][INFO][__main__] | Current working memories are [0 2]\n",
      "[2022-01-21 17:16:24,085][INFO][__main__] | Current working memories are [0 2]\n",
      "[2022-01-21 17:16:24,085][INFO][__main__] | Current working memories are [0 2]\n",
      "[2022-01-21 17:16:24,099][INFO][__main__] | Current working memories are [0 2]\n",
      "[2022-01-21 17:16:24,099][INFO][__main__] | Current working memories are [0 2]\n",
      "[2022-01-21 17:16:24,108][INFO][__main__] | Current working memories are [3 2]\n",
      "[2022-01-21 17:16:24,108][INFO][__main__] | Current working memories are [3 2]\n",
      "[2022-01-21 17:16:24,116][INFO][__main__] | Current working memories are [0 2]\n",
      "[2022-01-21 17:16:24,116][INFO][__main__] | Current working memories are [0 2]\n",
      "[2022-01-21 17:16:24,125][INFO][__main__] | Current working memories are [0 2]\n",
      "[2022-01-21 17:16:24,125][INFO][__main__] | Current working memories are [0 2]\n",
      "[2022-01-21 17:16:24,133][INFO][__main__] | Current working memories are [2 3]\n",
      "[2022-01-21 17:16:24,133][INFO][__main__] | Current working memories are [2 3]\n",
      "[2022-01-21 17:16:24,140][INFO][__main__] | Current working memories are [2 3]\n",
      "[2022-01-21 17:16:24,140][INFO][__main__] | Current working memories are [2 3]\n",
      "[2022-01-21 17:16:24,151][INFO][__main__] | Current working memories are [0 3]\n",
      "[2022-01-21 17:16:24,151][INFO][__main__] | Current working memories are [0 3]\n",
      "[2022-01-21 17:16:24,157][INFO][__main__] | Current working memories are [0 2]\n",
      "[2022-01-21 17:16:24,157][INFO][__main__] | Current working memories are [0 2]\n",
      "[2022-01-21 17:16:24,167][INFO][__main__] | Current working memories are [3 2]\n",
      "[2022-01-21 17:16:24,167][INFO][__main__] | Current working memories are [3 2]\n",
      "[2022-01-21 17:16:24,177][INFO][__main__] | Current working memories are [0 2]\n",
      "[2022-01-21 17:16:24,177][INFO][__main__] | Current working memories are [0 2]\n",
      "[2022-01-21 17:16:24,186][INFO][__main__] | Current working memories are [1 2]\n",
      "[2022-01-21 17:16:24,186][INFO][__main__] | Current working memories are [1 2]\n",
      "[2022-01-21 17:16:24,194][INFO][__main__] | Current working memories are [2 3]\n",
      "[2022-01-21 17:16:24,194][INFO][__main__] | Current working memories are [2 3]\n",
      "[2022-01-21 17:16:24,201][INFO][__main__] | Current working memories are [0 1]\n",
      "[2022-01-21 17:16:24,201][INFO][__main__] | Current working memories are [0 1]\n",
      "[2022-01-21 17:16:24,212][INFO][__main__] | Current working memories are [1 2]\n",
      "[2022-01-21 17:16:24,212][INFO][__main__] | Current working memories are [1 2]\n",
      "[2022-01-21 17:16:24,214][INFO][__main__] | End simulation\n",
      "[2022-01-21 17:16:24,214][INFO][__main__] | End simulation\n"
     ]
    }
   ],
   "source": [
    "shutdown = False\n",
    "info(\"Start simulation!\")\n",
    "steps = 0\n",
    "while not shutdown:\n",
    "    mem = mem_gentor.get_mem()\n",
    "    work_mem.add(mem)\n",
    "    pairs = work_mem.create_pairs()\n",
    "    traced = mem_dict.trace(work_mem.memories)\n",
    "    work_mem.add(traced)\n",
    "    for p in pairs:\n",
    "        mem_dict.connect(p[0],p[1])\n",
    "    \n",
    "    if steps % LOG_INTERVAL == 0:\n",
    "        log_mem_dict(writer,mem_dict,p)\n",
    "\n",
    "    steps += 1\n",
    "    if steps >= NUM_STEPS:\n",
    "        shutdown = True\n",
    "        info(\"End simulation\")\n"
   ]
  },
  {
   "cell_type": "code",
   "execution_count": null,
   "metadata": {},
   "outputs": [],
   "source": []
  }
 ],
 "metadata": {
  "interpreter": {
   "hash": "c4467f1926f03d6fcd44316305074fb8c0b3cdc10977f45ea461091401ebc85a"
  },
  "kernelspec": {
   "display_name": "Python 3.9.9 64-bit ('JARVIS': conda)",
   "language": "python",
   "name": "python3"
  },
  "language_info": {
   "codemirror_mode": {
    "name": "ipython",
    "version": 3
   },
   "file_extension": ".py",
   "mimetype": "text/x-python",
   "name": "python",
   "nbconvert_exporter": "python",
   "pygments_lexer": "ipython3",
   "version": "3.9.9"
  },
  "orig_nbformat": 4
 },
 "nbformat": 4,
 "nbformat_minor": 2
}
